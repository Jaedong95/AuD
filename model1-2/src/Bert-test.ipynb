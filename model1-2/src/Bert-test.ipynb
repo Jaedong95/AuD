{
 "cells": [
  {
   "cell_type": "code",
   "execution_count": 1,
   "id": "847e574e",
   "metadata": {},
   "outputs": [],
   "source": [
    "import pandas as pd \n",
    "import numpy as np\n",
    "import random\n",
    "import os \n",
    "import re\n",
    "import time\n",
    "import math\n",
    "import argparse\n",
    "import pymysql\n",
    "import json\n",
    "import torch\n",
    "import pickle\n",
    "import time\n",
    "import matplotlib.pyplot as plt\n",
    "from torchmetrics import R2Score\n",
    "from torch import nn\n",
    "from fastprogress.fastprogress import master_bar, progress_bar\n",
    "from sklearn.utils import shuffle \n",
    "from sklearn.model_selection import train_test_split\n",
    "from torch.utils.data import Dataset, DataLoader, RandomSampler, SequentialSampler\n",
    "from torch.utils.data import TensorDataset\n",
    "from attrdict import AttrDict\n",
    "from transformers import AdamW, get_linear_schedule_with_warmup\n",
    "from transformers import BertForSequenceClassification\n",
    "from transformers import BertConfig, BertTokenizer, BertModel\n",
    "from transformers.optimization import get_cosine_schedule_with_warmup\n",
    "from sklearn.metrics import precision_score , recall_score , confusion_matrix, f1_score, classification_report"
   ]
  },
  {
   "cell_type": "code",
   "execution_count": 2,
   "id": "3066743a",
   "metadata": {},
   "outputs": [],
   "source": [
    "data_path = \"/home/cori/AuD/model1-2/data\"\n",
    "base_model_path = \"/home/cori/AuD/base-model\"\n",
    "save_model_path = \"/home/cori/AuD/model1-2/model\"\n",
    "config_path = \"/home/cori/AuD/model1-2/config\"\n",
    "log_path = \"/home/cori/AuD/model1-2/log\"\n",
    "config_file = \"bert-base.json\""
   ]
  },
  {
   "cell_type": "code",
   "execution_count": 3,
   "id": "e4191310",
   "metadata": {},
   "outputs": [
    {
     "data": {
      "text/plain": [
       "{0: '우울',\n",
       " 1: '무기력',\n",
       " 2: '급격한 체중(식욕)변화',\n",
       " 3: '수면장애',\n",
       " 4: '정서불안',\n",
       " 5: '피로',\n",
       " 6: '과도한 죄책감 및 무가치함',\n",
       " 7: '인지기능저하',\n",
       " 8: '자살충동',\n",
       " 9: '일상'}"
      ]
     },
     "execution_count": 3,
     "metadata": {},
     "output_type": "execute_result"
    }
   ],
   "source": [
    "label = dict()\n",
    "\n",
    "label[0] = '우울'\n",
    "label[1] = '무기력'\n",
    "label[2] = '급격한 체중(식욕)변화'\n",
    "label[3] = '수면장애'\n",
    "label[4] = '정서불안'\n",
    "label[5] = '피로'\n",
    "label[6] = '과도한 죄책감 및 무가치함'\n",
    "label[7] = '인지기능저하'\n",
    "label[8] = '자살충동'\n",
    "label[9] = '일상'\n",
    "label"
   ]
  },
  {
   "cell_type": "code",
   "execution_count": 4,
   "id": "6bc6b240",
   "metadata": {},
   "outputs": [],
   "source": [
    "with open(os.path.join(config_path, 'training_config.json')) as f:\n",
    "    training_config = AttrDict(json.load(f))\n",
    "    \n",
    "training_config.pad = 'max_length'\n",
    "training_config.device = torch.device(\"cuda\") if torch.cuda.is_available() else \"cpu\""
   ]
  },
  {
   "cell_type": "code",
   "execution_count": 5,
   "id": "7e8dc1bc",
   "metadata": {},
   "outputs": [],
   "source": [
    "class BertDataset(Dataset):\n",
    "    def __init__(self, data_file):\n",
    "        self.data = data_file\n",
    "    \n",
    "    def __len__(self):\n",
    "        return len(self.data.label)\n",
    "    \n",
    "    def reset_index(self):\n",
    "        self.data.reset_index(inplace=True, drop=True)\n",
    "    \n",
    "    # def clear_text(self)  => 전처리 코드를 여기에 넣을 경우 상당히 느려짐\n",
    "    \n",
    "    def __getitem__(self, idx):\n",
    "        '''\n",
    "        return text, label\n",
    "        '''\n",
    "        self.reset_index()\n",
    "        text = self.data.text[idx]\n",
    "        label = self.data.label[idx]\n",
    "        return text, label"
   ]
  },
  {
   "cell_type": "code",
   "execution_count": 6,
   "id": "12fdc5e8",
   "metadata": {},
   "outputs": [],
   "source": [
    "class BertRegressor(nn.Module):\n",
    "    def __init__(self, config, model):\n",
    "        super(BertRegressor, self).__init__()\n",
    "        self.model = model\n",
    "        self.linear = nn.Linear(config.hidden_size, 128)\n",
    "        self.relu = nn.ReLU()\n",
    "        self.out = nn.Linear(128, 1)\n",
    "    \n",
    "    def forward(self, input_ids, attention_mask, token_type_ids):\n",
    "        outputs = self.model(input_ids=input_ids, attention_mask=attention_mask, token_type_ids=token_type_ids)\n",
    "        logits = outputs.last_hidden_state[:, 0, :]\n",
    "        x = self.linear(logits)\n",
    "        x = self.relu(x)\n",
    "        score = self.out(x)\n",
    "        return score "
   ]
  },
  {
   "cell_type": "code",
   "execution_count": 7,
   "id": "232d2746",
   "metadata": {},
   "outputs": [],
   "source": [
    "class BertProcessor():\n",
    "    def __init__(self, training_config, tokenizer, truncation=True):\n",
    "        self.tokenizer = tokenizer \n",
    "        self.max_len = 128\n",
    "        self.pad = training_config.pad\n",
    "        self.batch_size = training_config.train_batch_size\n",
    "        self.truncation = truncation\n",
    "    \n",
    "    def convert_data(self, data_file):\n",
    "        context2 = None    # single sentence classification\n",
    "\n",
    "        batch_encoding = self.tokenizer.batch_encode_plus(\n",
    "            [(data_file[idx][0], context2) for idx in range(len(data_file))],   # text, \n",
    "            max_length = self.max_len,\n",
    "            padding = self.pad,\n",
    "            truncation = self.truncation\n",
    "        )\n",
    "        \n",
    "        features = []\n",
    "        for i in range(len(data_file)):\n",
    "            inputs = {k: batch_encoding[k][i] for k in batch_encoding}\n",
    "            try:\n",
    "                inputs['label'] = data_file[i][1] \n",
    "            except:\n",
    "                inputs['label'] = 0 \n",
    "            features.append(inputs)\n",
    "        \n",
    "        all_input_ids = torch.tensor([f['input_ids'] for f in features], dtype=torch.long)\n",
    "        all_attention_mask = torch.tensor([f['attention_mask'] for f in features], dtype=torch.long)\n",
    "        all_token_type_ids = torch.tensor([f['token_type_ids'] for f in features], dtype=torch.long)\n",
    "        all_labels = torch.tensor([f['label'] for f in features], dtype=torch.long)\n",
    "\n",
    "        dataset = TensorDataset(all_input_ids, all_attention_mask, all_token_type_ids, all_labels)\n",
    "        return dataset\n",
    "    \n",
    "    def convert_sentence(self, sent_list):   # 사용자 입력 문장 1개 -> 입력 형태 변환\n",
    "        context2 = None \n",
    "        batch_encoding = self.tokenizer.batch_encode_plus(\n",
    "            [(sent_list, context2)], max_length=self.max_len, padding=self.pad, truncation=self.truncation\n",
    "        )\n",
    "        \n",
    "        features = []\n",
    "        inputs = {k: batch_encoding[k][0] for k in batch_encoding}\n",
    "        inputs['label'] = 0 \n",
    "        features.append(inputs)\n",
    "\n",
    "        input_id = torch.tensor([f['input_ids'] for f in features], dtype=torch.long)\n",
    "        input_am = torch.tensor([f['attention_mask'] for f in features], dtype=torch.long)\n",
    "        input_tts = torch.tensor([f['token_type_ids'] for f in features], dtype=torch.long)\n",
    "        input_lb = torch.tensor([f['label'] for f in features], dtype=torch.long)\n",
    "        dataset = TensorDataset(input_id, input_am, input_tts, input_lb)\n",
    "        return dataset\n",
    "    \n",
    "    def shuffle_data(self, dataset, data_type):\n",
    "        if data_type == 'train':\n",
    "            return RandomSampler(dataset)\n",
    "        elif data_type == 'eval' or data_type == 'test':\n",
    "            return SequentialSampler(dataset)\n",
    "        \n",
    "    def load_data(self, dataset, sampler):\n",
    "        return DataLoader(dataset, sampler=sampler, batch_size=self.batch_size)"
   ]
  },
  {
   "cell_type": "code",
   "execution_count": 8,
   "id": "6b241620",
   "metadata": {},
   "outputs": [],
   "source": [
    "class BertRegTester():\n",
    "    def __init__(self, training_config, model):\n",
    "        self.training_config = training_config\n",
    "        self.model = model\n",
    "\n",
    "    def get_label(self, test_dataloader, test_type):\n",
    "        '''\n",
    "        test_type: 0  -> Test dataset \n",
    "        test_type: 1  -> Test sentence\n",
    "        '''\n",
    "        preds = []\n",
    "        labels = []\n",
    "\n",
    "        for batch in test_dataloader:\n",
    "            self.model.eval()   # self 안 붙이면 이상한 Output (BaseModelOutputWithPoolingAndCrossAttentions) 출력 \n",
    "            batch = tuple(t.to(training_config.device) for t in batch)   # args.device: cuda \n",
    "            with torch.no_grad():\n",
    "                inputs = {\n",
    "                    \"input_ids\": batch[0],\n",
    "                    \"attention_mask\": batch[1],\n",
    "                    \"token_type_ids\": batch[2],\n",
    "                }\n",
    "                outputs = self.model(**inputs)\n",
    "                if test_type == 0:\n",
    "                    preds.extend(outputs.squeeze().detach().cpu().numpy())\n",
    "                elif test_type == 1:\n",
    "                    preds.extend(outputs[0].detach().cpu().numpy())            \n",
    "            label = batch[3].detach().cpu().numpy()\n",
    "            labels.extend(label)\n",
    "        return preds, labels "
   ]
  },
  {
   "cell_type": "code",
   "execution_count": 9,
   "id": "45714089",
   "metadata": {},
   "outputs": [],
   "source": [
    "class BertClsTester():\n",
    "    def __init__(self, training_config, model):\n",
    "        self.training_config = training_config\n",
    "        self.model = model\n",
    "\n",
    "    def get_label(self, test_dataloader, test_type):\n",
    "        '''\n",
    "        test_type: 0  -> Test dataset \n",
    "        test_type: 1  -> Test sentence\n",
    "        '''\n",
    "        preds = []\n",
    "        labels = []\n",
    "\n",
    "        for batch in test_dataloader:\n",
    "            self.model.eval()\n",
    "            batch = tuple(t.to(self.training_config.device) for t in batch)   # args.device: cuda \n",
    "            with torch.no_grad():\n",
    "                inputs = {\n",
    "                    \"input_ids\": batch[0],\n",
    "                    \"attention_mask\": batch[1],\n",
    "                    \"token_type_ids\": batch[2],\n",
    "                    \"labels\": batch[3]\n",
    "                }\n",
    "                outputs = self.model(**inputs)\n",
    "                test_loss, logits = outputs[:2] \n",
    "                pred = logits.detach().cpu().numpy()\n",
    "                if test_type == 0:\n",
    "                    preds.extend(np.argmax(pred, axis=1))\n",
    "                elif test_type == 1:\n",
    "                    preds.append(np.argmax(pred))  \n",
    "                            \n",
    "            label = inputs[\"labels\"].detach().cpu().numpy()\n",
    "            labels.extend(label)\n",
    "  \n",
    "        return preds, labels \n",
    "    \n",
    "    def get_f1_score(self, test_dataloader):\n",
    "        y_pred, y_true = self.get_label(test_dataloader)\n",
    "        return round(f1_score(y_true, y_pred, average='micro'), 3) \n",
    "     \n",
    "    def get_cl_report(self, test_dataloader):\n",
    "        y_pred, y_true = self.get_label(test_dataloader, 0)\n",
    "        cr = classification_report(y_true, y_pred).split('\\n')\n",
    "        clr_df = []\n",
    "\n",
    "        for idx, line in enumerate(cr):\n",
    "            clr_df.append([])\n",
    "            if line == '':\n",
    "                continue\n",
    "\n",
    "            word_list = line.strip().split(' ')\n",
    "\n",
    "            for word in word_list:\n",
    "                if word != '':\n",
    "                    clr_df[idx].append(word)\n",
    "\n",
    "        clr_df[-2][0] = ' '.join([clr_df[-2][0], clr_df[-2][1]])\n",
    "        clr_df[-3][0] = ' '.join([clr_df[-3][0], clr_df[-3][1]])\n",
    "        clr_df[-4].insert(1, ' ')\n",
    "        clr_df[-4].insert(2, ' ')\n",
    "        clr_df[0].insert(0, 'index')\n",
    "\n",
    "        clr_df[-2].pop(1)\n",
    "        clr_df[-3].pop(1)\n",
    "        clr_df.pop(1)\n",
    "        clr_df.pop(-1)\n",
    "        clr_df.pop(-4)\n",
    "        clr_df = pd.DataFrame(clr_df[1:], columns=clr_df[0])\n",
    "        clr_df.index = clr_df['index']\n",
    "\n",
    "        del clr_df['index']\n",
    "        return clr_df"
   ]
  },
  {
   "cell_type": "markdown",
   "id": "75ec1066",
   "metadata": {},
   "source": [
    "#### Regression Model"
   ]
  },
  {
   "cell_type": "code",
   "execution_count": null,
   "id": "3112e4ae",
   "metadata": {
    "scrolled": true
   },
   "outputs": [],
   "source": [
    "X_test = pd.read_csv(os.path.join(data_path, 'bws_bin_samp_test.csv'))\n",
    "X_test.head(3)"
   ]
  },
  {
   "cell_type": "code",
   "execution_count": null,
   "id": "871f1465",
   "metadata": {
    "scrolled": true
   },
   "outputs": [],
   "source": [
    "tokenizer = BertTokenizer.from_pretrained(os.path.join(model_path, 'bert-base'), model_max_length=32)\n",
    "config = BertConfig.from_pretrained(os.path.join(model_path, 'bert-base', 'bert_config.json'))\n",
    "model = BertModel.from_pretrained(os.path.join(model_path, 'bert-base'), config=config)"
   ]
  },
  {
   "cell_type": "code",
   "execution_count": null,
   "id": "90c3eaca",
   "metadata": {
    "scrolled": true
   },
   "outputs": [],
   "source": [
    "test_processor = BertProcessor(training_config, tokenizer)"
   ]
  },
  {
   "cell_type": "code",
   "execution_count": null,
   "id": "a760b4ff",
   "metadata": {},
   "outputs": [],
   "source": [
    "test_file = BertDataset(X_test)\n",
    "test_dataset = test_processor.convert_data(test_file)\n",
    "test_sampler = test_processor.shuffle_data(test_dataset, 'test')\n",
    "test_dataloader = test_processor.load_data(test_dataset, test_sampler)"
   ]
  },
  {
   "cell_type": "code",
   "execution_count": null,
   "id": "2d379bc8",
   "metadata": {},
   "outputs": [],
   "source": [
    "config.max_position_embeddings = 32"
   ]
  },
  {
   "cell_type": "code",
   "execution_count": null,
   "id": "62a582b1",
   "metadata": {},
   "outputs": [],
   "source": [
    "model_reg = BertRegressor(config, model)"
   ]
  },
  {
   "cell_type": "code",
   "execution_count": null,
   "id": "0b64a07c",
   "metadata": {},
   "outputs": [],
   "source": [
    "model_name = os.path.join(model_path, 'bws', 'bert_bin_samp_base.pt')\n",
    "# model_name = os.path.join(model_path, 'bws', 'bert_bws_medium.pt') "
   ]
  },
  {
   "cell_type": "code",
   "execution_count": null,
   "id": "58fcdea8",
   "metadata": {},
   "outputs": [],
   "source": [
    "model_reg.load_state_dict(torch.load(model_name))\n",
    "model_reg.to(training_config.device)"
   ]
  },
  {
   "cell_type": "code",
   "execution_count": null,
   "id": "ef60fe33",
   "metadata": {},
   "outputs": [],
   "source": [
    "bert_tester = BertRegTester(training_config, model_reg)"
   ]
  },
  {
   "cell_type": "code",
   "execution_count": null,
   "id": "9e2912c0",
   "metadata": {
    "scrolled": true
   },
   "outputs": [],
   "source": [
    "start = time.time()\n",
    "y_pred, y_true = bert_tester.get_label(test_dataloader, 0)\n",
    "print(f'소요 시간: {time.time() - start}')"
   ]
  },
  {
   "cell_type": "code",
   "execution_count": null,
   "id": "0307f230",
   "metadata": {},
   "outputs": [],
   "source": [
    "X_test"
   ]
  },
  {
   "cell_type": "code",
   "execution_count": null,
   "id": "460bc274",
   "metadata": {},
   "outputs": [],
   "source": [
    "def RMSELoss(yhat,y):\n",
    "    return torch.sqrt(torch.mean((yhat-y)**2))"
   ]
  },
  {
   "cell_type": "code",
   "execution_count": null,
   "id": "c7aa06a5",
   "metadata": {},
   "outputs": [],
   "source": [
    "criterion = RMSELoss"
   ]
  },
  {
   "cell_type": "code",
   "execution_count": null,
   "id": "f673061c",
   "metadata": {},
   "outputs": [],
   "source": [
    "loss = criterion(torch.Tensor(y_pred), torch.Tensor((y_true)))\n",
    "loss"
   ]
  },
  {
   "cell_type": "code",
   "execution_count": null,
   "id": "da8ed2ae",
   "metadata": {},
   "outputs": [],
   "source": [
    "r2score = R2Score()\n",
    "r2score(torch.Tensor(y_pred), torch.Tensor(y_true))"
   ]
  },
  {
   "cell_type": "code",
   "execution_count": null,
   "id": "7645c414",
   "metadata": {},
   "outputs": [],
   "source": [
    "X_test.text[2]"
   ]
  },
  {
   "cell_type": "code",
   "execution_count": null,
   "id": "c8dd8aa7",
   "metadata": {},
   "outputs": [],
   "source": [
    "y_pred[:10], y_true[:10]"
   ]
  },
  {
   "cell_type": "code",
   "execution_count": null,
   "id": "ad9677a6",
   "metadata": {},
   "outputs": [],
   "source": [
    "test_sent = \"I am so depressed today\" # X_test.text[0]\n",
    "test_data = test_processor.convert_sentence(test_sent)\n",
    "test_sampler = test_processor.shuffle_data(test_data, 'test')\n",
    "test_loader = test_processor.load_data(test_data, test_sampler)"
   ]
  },
  {
   "cell_type": "code",
   "execution_count": null,
   "id": "4f19c98f",
   "metadata": {},
   "outputs": [],
   "source": [
    "start = time.time()\n",
    "y_pred, y_true = bert_tester.get_label(test_loader, 1)\n",
    "print(f'소요 시간: {time.time() - start}')"
   ]
  },
  {
   "cell_type": "code",
   "execution_count": null,
   "id": "c79112e2",
   "metadata": {},
   "outputs": [],
   "source": [
    "y_pred"
   ]
  },
  {
   "cell_type": "code",
   "execution_count": null,
   "id": "7c3be600",
   "metadata": {},
   "outputs": [],
   "source": [
    "tokenizer = BertTokenizer.from_pretrained(os.path.join(model_path, 'bert-mini'), model_max_length=32)\n",
    "config = BertConfig.from_pretrained(os.path.join(model_path, 'bert-mini', 'bert_config.json'))\n",
    "model = BertModel.from_pretrained(os.path.join(model_path, 'bert-mini'), config=config)"
   ]
  },
  {
   "cell_type": "code",
   "execution_count": null,
   "id": "b2c86fa4",
   "metadata": {},
   "outputs": [],
   "source": [
    "conv = ['hey', 'I feel very depressed', 'I feed depressed', 'I feel sad', 'I cry everyday', 'I went to school', 'I want to die']\n",
    "dep_test = pd.DataFrame(conv, columns=['text'])\n",
    "dep_test['label'] = 9999"
   ]
  },
  {
   "cell_type": "code",
   "execution_count": null,
   "id": "add98898",
   "metadata": {},
   "outputs": [],
   "source": [
    "test_file = BertDataset(dep_test)\n",
    "test_dataset = test_processor.convert_data(test_file)\n",
    "test_sampler = test_processor.shuffle_data(test_dataset, 'test')\n",
    "test_dataloader = test_processor.load_data(test_dataset, test_sampler)"
   ]
  },
  {
   "cell_type": "code",
   "execution_count": null,
   "id": "1fa17734",
   "metadata": {},
   "outputs": [],
   "source": [
    "model_reg = BertRegressor(config, model)\n",
    "# model_reg2 = BertRegressor(config, model)"
   ]
  },
  {
   "cell_type": "code",
   "execution_count": null,
   "id": "5ed59467",
   "metadata": {},
   "outputs": [],
   "source": [
    "model_name = os.path.join(model_path, 'bert_bws_best.pt')"
   ]
  },
  {
   "cell_type": "code",
   "execution_count": null,
   "id": "f144dd5d",
   "metadata": {},
   "outputs": [],
   "source": [
    "model_reg.load_state_dict(torch.load(model_name))\n",
    "model_reg.to(training_config.device)"
   ]
  },
  {
   "cell_type": "code",
   "execution_count": null,
   "id": "b79b61de",
   "metadata": {},
   "outputs": [],
   "source": [
    "bert_tester = BertTester(training_config, model_reg)"
   ]
  },
  {
   "cell_type": "code",
   "execution_count": null,
   "id": "c597810b",
   "metadata": {},
   "outputs": [],
   "source": [
    "y_pred, y_true = bert_tester.get_label(test_dataloader, 0)"
   ]
  },
  {
   "cell_type": "code",
   "execution_count": null,
   "id": "47e2229c",
   "metadata": {},
   "outputs": [],
   "source": [
    "dep_test['label'] = [pred for pred in y_pred]\n",
    "dep_test"
   ]
  },
  {
   "cell_type": "markdown",
   "id": "70831977",
   "metadata": {},
   "source": [
    "#### Classification "
   ]
  },
  {
   "cell_type": "code",
   "execution_count": 50,
   "id": "9bb7569a",
   "metadata": {},
   "outputs": [
    {
     "data": {
      "text/html": [
       "<div>\n",
       "<style scoped>\n",
       "    .dataframe tbody tr th:only-of-type {\n",
       "        vertical-align: middle;\n",
       "    }\n",
       "\n",
       "    .dataframe tbody tr th {\n",
       "        vertical-align: top;\n",
       "    }\n",
       "\n",
       "    .dataframe thead th {\n",
       "        text-align: right;\n",
       "    }\n",
       "</style>\n",
       "<table border=\"1\" class=\"dataframe\">\n",
       "  <thead>\n",
       "    <tr style=\"text-align: right;\">\n",
       "      <th></th>\n",
       "      <th>id</th>\n",
       "      <th>text</th>\n",
       "      <th>label</th>\n",
       "    </tr>\n",
       "  </thead>\n",
       "  <tbody>\n",
       "    <tr>\n",
       "      <th>0</th>\n",
       "      <td>10iull</td>\n",
       "      <td>i attempted suicide twice during this, and as ...</td>\n",
       "      <td>8</td>\n",
       "    </tr>\n",
       "    <tr>\n",
       "      <th>1</th>\n",
       "      <td>47ohkk</td>\n",
       "      <td>i just have a feeling of sadness constantly in...</td>\n",
       "      <td>0</td>\n",
       "    </tr>\n",
       "    <tr>\n",
       "      <th>2</th>\n",
       "      <td>107968</td>\n",
       "      <td>I think it'd be better to wear several thin cl...</td>\n",
       "      <td>9</td>\n",
       "    </tr>\n",
       "  </tbody>\n",
       "</table>\n",
       "</div>"
      ],
      "text/plain": [
       "       id                                               text  label\n",
       "0  10iull  i attempted suicide twice during this, and as ...      8\n",
       "1  47ohkk  i just have a feeling of sadness constantly in...      0\n",
       "2  107968  I think it'd be better to wear several thin cl...      9"
      ]
     },
     "execution_count": 50,
     "metadata": {},
     "output_type": "execute_result"
    }
   ],
   "source": [
    "X_test = pd.read_csv(os.path.join(data_path, 'dsm_samp_test.csv'))\n",
    "X_test.head(3)"
   ]
  },
  {
   "cell_type": "code",
   "execution_count": 11,
   "id": "6181089b",
   "metadata": {},
   "outputs": [
    {
     "data": {
      "text/plain": [
       "array([3, 8, 0, 6, 1, 2, 7, 5, 4])"
      ]
     },
     "execution_count": 11,
     "metadata": {},
     "output_type": "execute_result"
    }
   ],
   "source": [
    "X_test.label.unique()"
   ]
  },
  {
   "cell_type": "code",
   "execution_count": 51,
   "id": "06192c70",
   "metadata": {},
   "outputs": [
    {
     "name": "stderr",
     "output_type": "stream",
     "text": [
      "Some weights of the model checkpoint at /home/cori/AuD/base-model/bert-mini were not used when initializing BertForSequenceClassification: ['cls.predictions.transform.dense.bias', 'cls.seq_relationship.weight', 'cls.predictions.transform.LayerNorm.bias', 'cls.predictions.decoder.weight', 'cls.predictions.transform.dense.weight', 'cls.predictions.decoder.bias', 'cls.seq_relationship.bias', 'cls.predictions.bias', 'cls.predictions.transform.LayerNorm.weight']\n",
      "- This IS expected if you are initializing BertForSequenceClassification from the checkpoint of a model trained on another task or with another architecture (e.g. initializing a BertForSequenceClassification model from a BertForPreTraining model).\n",
      "- This IS NOT expected if you are initializing BertForSequenceClassification from the checkpoint of a model that you expect to be exactly identical (initializing a BertForSequenceClassification model from a BertForSequenceClassification model).\n",
      "Some weights of BertForSequenceClassification were not initialized from the model checkpoint at /home/cori/AuD/base-model/bert-mini and are newly initialized: ['classifier.bias', 'classifier.weight']\n",
      "You should probably TRAIN this model on a down-stream task to be able to use it for predictions and inference.\n"
     ]
    }
   ],
   "source": [
    "tokenizer = BertTokenizer.from_pretrained(os.path.join(base_model_path, 'bert-mini'), model_max_length=128)\n",
    "config = BertConfig.from_pretrained(os.path.join(base_model_path, 'bert-mini', 'bert_config.json'), num_labels=10, output_hidden_states=True)\n",
    "model = BertForSequenceClassification.from_pretrained(os.path.join(base_model_path, 'bert-mini'), config=config)"
   ]
  },
  {
   "cell_type": "code",
   "execution_count": 52,
   "id": "2a23aabd",
   "metadata": {},
   "outputs": [],
   "source": [
    "config.max_position_embeddings = 128"
   ]
  },
  {
   "cell_type": "code",
   "execution_count": 53,
   "id": "bb8a0936",
   "metadata": {},
   "outputs": [
    {
     "data": {
      "text/plain": [
       "BertForSequenceClassification(\n",
       "  (bert): BertModel(\n",
       "    (embeddings): BertEmbeddings(\n",
       "      (word_embeddings): Embedding(30522, 256, padding_idx=0)\n",
       "      (position_embeddings): Embedding(512, 256)\n",
       "      (token_type_embeddings): Embedding(2, 256)\n",
       "      (LayerNorm): LayerNorm((256,), eps=1e-12, elementwise_affine=True)\n",
       "      (dropout): Dropout(p=0.1, inplace=False)\n",
       "    )\n",
       "    (encoder): BertEncoder(\n",
       "      (layer): ModuleList(\n",
       "        (0): BertLayer(\n",
       "          (attention): BertAttention(\n",
       "            (self): BertSelfAttention(\n",
       "              (query): Linear(in_features=256, out_features=256, bias=True)\n",
       "              (key): Linear(in_features=256, out_features=256, bias=True)\n",
       "              (value): Linear(in_features=256, out_features=256, bias=True)\n",
       "              (dropout): Dropout(p=0.1, inplace=False)\n",
       "            )\n",
       "            (output): BertSelfOutput(\n",
       "              (dense): Linear(in_features=256, out_features=256, bias=True)\n",
       "              (LayerNorm): LayerNorm((256,), eps=1e-12, elementwise_affine=True)\n",
       "              (dropout): Dropout(p=0.1, inplace=False)\n",
       "            )\n",
       "          )\n",
       "          (intermediate): BertIntermediate(\n",
       "            (dense): Linear(in_features=256, out_features=1024, bias=True)\n",
       "            (intermediate_act_fn): GELUActivation()\n",
       "          )\n",
       "          (output): BertOutput(\n",
       "            (dense): Linear(in_features=1024, out_features=256, bias=True)\n",
       "            (LayerNorm): LayerNorm((256,), eps=1e-12, elementwise_affine=True)\n",
       "            (dropout): Dropout(p=0.1, inplace=False)\n",
       "          )\n",
       "        )\n",
       "        (1): BertLayer(\n",
       "          (attention): BertAttention(\n",
       "            (self): BertSelfAttention(\n",
       "              (query): Linear(in_features=256, out_features=256, bias=True)\n",
       "              (key): Linear(in_features=256, out_features=256, bias=True)\n",
       "              (value): Linear(in_features=256, out_features=256, bias=True)\n",
       "              (dropout): Dropout(p=0.1, inplace=False)\n",
       "            )\n",
       "            (output): BertSelfOutput(\n",
       "              (dense): Linear(in_features=256, out_features=256, bias=True)\n",
       "              (LayerNorm): LayerNorm((256,), eps=1e-12, elementwise_affine=True)\n",
       "              (dropout): Dropout(p=0.1, inplace=False)\n",
       "            )\n",
       "          )\n",
       "          (intermediate): BertIntermediate(\n",
       "            (dense): Linear(in_features=256, out_features=1024, bias=True)\n",
       "            (intermediate_act_fn): GELUActivation()\n",
       "          )\n",
       "          (output): BertOutput(\n",
       "            (dense): Linear(in_features=1024, out_features=256, bias=True)\n",
       "            (LayerNorm): LayerNorm((256,), eps=1e-12, elementwise_affine=True)\n",
       "            (dropout): Dropout(p=0.1, inplace=False)\n",
       "          )\n",
       "        )\n",
       "        (2): BertLayer(\n",
       "          (attention): BertAttention(\n",
       "            (self): BertSelfAttention(\n",
       "              (query): Linear(in_features=256, out_features=256, bias=True)\n",
       "              (key): Linear(in_features=256, out_features=256, bias=True)\n",
       "              (value): Linear(in_features=256, out_features=256, bias=True)\n",
       "              (dropout): Dropout(p=0.1, inplace=False)\n",
       "            )\n",
       "            (output): BertSelfOutput(\n",
       "              (dense): Linear(in_features=256, out_features=256, bias=True)\n",
       "              (LayerNorm): LayerNorm((256,), eps=1e-12, elementwise_affine=True)\n",
       "              (dropout): Dropout(p=0.1, inplace=False)\n",
       "            )\n",
       "          )\n",
       "          (intermediate): BertIntermediate(\n",
       "            (dense): Linear(in_features=256, out_features=1024, bias=True)\n",
       "            (intermediate_act_fn): GELUActivation()\n",
       "          )\n",
       "          (output): BertOutput(\n",
       "            (dense): Linear(in_features=1024, out_features=256, bias=True)\n",
       "            (LayerNorm): LayerNorm((256,), eps=1e-12, elementwise_affine=True)\n",
       "            (dropout): Dropout(p=0.1, inplace=False)\n",
       "          )\n",
       "        )\n",
       "        (3): BertLayer(\n",
       "          (attention): BertAttention(\n",
       "            (self): BertSelfAttention(\n",
       "              (query): Linear(in_features=256, out_features=256, bias=True)\n",
       "              (key): Linear(in_features=256, out_features=256, bias=True)\n",
       "              (value): Linear(in_features=256, out_features=256, bias=True)\n",
       "              (dropout): Dropout(p=0.1, inplace=False)\n",
       "            )\n",
       "            (output): BertSelfOutput(\n",
       "              (dense): Linear(in_features=256, out_features=256, bias=True)\n",
       "              (LayerNorm): LayerNorm((256,), eps=1e-12, elementwise_affine=True)\n",
       "              (dropout): Dropout(p=0.1, inplace=False)\n",
       "            )\n",
       "          )\n",
       "          (intermediate): BertIntermediate(\n",
       "            (dense): Linear(in_features=256, out_features=1024, bias=True)\n",
       "            (intermediate_act_fn): GELUActivation()\n",
       "          )\n",
       "          (output): BertOutput(\n",
       "            (dense): Linear(in_features=1024, out_features=256, bias=True)\n",
       "            (LayerNorm): LayerNorm((256,), eps=1e-12, elementwise_affine=True)\n",
       "            (dropout): Dropout(p=0.1, inplace=False)\n",
       "          )\n",
       "        )\n",
       "      )\n",
       "    )\n",
       "    (pooler): BertPooler(\n",
       "      (dense): Linear(in_features=256, out_features=256, bias=True)\n",
       "      (activation): Tanh()\n",
       "    )\n",
       "  )\n",
       "  (dropout): Dropout(p=0.1, inplace=False)\n",
       "  (classifier): Linear(in_features=256, out_features=10, bias=True)\n",
       ")"
      ]
     },
     "execution_count": 53,
     "metadata": {},
     "output_type": "execute_result"
    }
   ],
   "source": [
    "with open(os.path.join(config_path, 'training_config.json')) as f:\n",
    "    training_config = AttrDict(json.load(f))\n",
    "\n",
    "training_config.pad = 'max_length'\n",
    "training_config.device = torch.device(\"cuda\") if torch.cuda.is_available() else \"cpu\"\n",
    "model.to(training_config.device)"
   ]
  },
  {
   "cell_type": "code",
   "execution_count": 54,
   "id": "d7e81577",
   "metadata": {},
   "outputs": [],
   "source": [
    "test_processor = BertProcessor(training_config, tokenizer)"
   ]
  },
  {
   "cell_type": "code",
   "execution_count": 55,
   "id": "424aac1d",
   "metadata": {},
   "outputs": [],
   "source": [
    "test_file = BertDataset(X_test)\n",
    "test_dataset = test_processor.convert_data(test_file)\n",
    "test_sampler = test_processor.shuffle_data(test_dataset, 'test')\n",
    "test_dataloader = test_processor.load_data(test_dataset, test_sampler)"
   ]
  },
  {
   "cell_type": "code",
   "execution_count": 56,
   "id": "7b2805ab",
   "metadata": {},
   "outputs": [],
   "source": [
    "# model_name = os.path.join(save_model_path, 'label_10', 'bert-tiny', 'bert_dsm_8.pt')\n",
    "model_name = os.path.join(save_model_path, 'label_10', 'bert-mini', 'bert_dsm_4.pt')\n",
    "# model_name = os.path.join(save_model_path, 'label_10', 'bert-small', 'bert_dsm_4.pt')\n",
    "# model_name = os.path.join(save_model_path, 'label_10', 'bert-medium', 'bert_dsm_6.pt')\n",
    "# model_name = os.path.join(save_model_path, 'label_10', 'bert-base', 'bert_dsm_1.pt')"
   ]
  },
  {
   "cell_type": "raw",
   "id": "279f982d",
   "metadata": {},
   "source": [
    "# model_name = os.path.join(save_model_path, 'label_9', 'bert-tiny', 'bert_dsm_8.pt')\n",
    "model_name = os.path.join(save_model_path, 'label_9', 'bert-mini', 'bert_dsm_5.pt')\n",
    "# model_name = os.path.join(save_model_path, 'label_9', 'bert-small', 'bert_dsm_15.pt')\n",
    "# model_name = os.path.join(save_model_path, 'label_9', 'bert-medium', 'bert_dsm_2.pt')\n",
    "# model_name = os.path.join(save_model_path, 'label_9', 'bert-base', 'bert_dsm_1.pt')"
   ]
  },
  {
   "cell_type": "code",
   "execution_count": 57,
   "id": "552b3ae2",
   "metadata": {},
   "outputs": [
    {
     "data": {
      "text/plain": [
       "BertForSequenceClassification(\n",
       "  (bert): BertModel(\n",
       "    (embeddings): BertEmbeddings(\n",
       "      (word_embeddings): Embedding(30522, 256, padding_idx=0)\n",
       "      (position_embeddings): Embedding(512, 256)\n",
       "      (token_type_embeddings): Embedding(2, 256)\n",
       "      (LayerNorm): LayerNorm((256,), eps=1e-12, elementwise_affine=True)\n",
       "      (dropout): Dropout(p=0.1, inplace=False)\n",
       "    )\n",
       "    (encoder): BertEncoder(\n",
       "      (layer): ModuleList(\n",
       "        (0): BertLayer(\n",
       "          (attention): BertAttention(\n",
       "            (self): BertSelfAttention(\n",
       "              (query): Linear(in_features=256, out_features=256, bias=True)\n",
       "              (key): Linear(in_features=256, out_features=256, bias=True)\n",
       "              (value): Linear(in_features=256, out_features=256, bias=True)\n",
       "              (dropout): Dropout(p=0.1, inplace=False)\n",
       "            )\n",
       "            (output): BertSelfOutput(\n",
       "              (dense): Linear(in_features=256, out_features=256, bias=True)\n",
       "              (LayerNorm): LayerNorm((256,), eps=1e-12, elementwise_affine=True)\n",
       "              (dropout): Dropout(p=0.1, inplace=False)\n",
       "            )\n",
       "          )\n",
       "          (intermediate): BertIntermediate(\n",
       "            (dense): Linear(in_features=256, out_features=1024, bias=True)\n",
       "            (intermediate_act_fn): GELUActivation()\n",
       "          )\n",
       "          (output): BertOutput(\n",
       "            (dense): Linear(in_features=1024, out_features=256, bias=True)\n",
       "            (LayerNorm): LayerNorm((256,), eps=1e-12, elementwise_affine=True)\n",
       "            (dropout): Dropout(p=0.1, inplace=False)\n",
       "          )\n",
       "        )\n",
       "        (1): BertLayer(\n",
       "          (attention): BertAttention(\n",
       "            (self): BertSelfAttention(\n",
       "              (query): Linear(in_features=256, out_features=256, bias=True)\n",
       "              (key): Linear(in_features=256, out_features=256, bias=True)\n",
       "              (value): Linear(in_features=256, out_features=256, bias=True)\n",
       "              (dropout): Dropout(p=0.1, inplace=False)\n",
       "            )\n",
       "            (output): BertSelfOutput(\n",
       "              (dense): Linear(in_features=256, out_features=256, bias=True)\n",
       "              (LayerNorm): LayerNorm((256,), eps=1e-12, elementwise_affine=True)\n",
       "              (dropout): Dropout(p=0.1, inplace=False)\n",
       "            )\n",
       "          )\n",
       "          (intermediate): BertIntermediate(\n",
       "            (dense): Linear(in_features=256, out_features=1024, bias=True)\n",
       "            (intermediate_act_fn): GELUActivation()\n",
       "          )\n",
       "          (output): BertOutput(\n",
       "            (dense): Linear(in_features=1024, out_features=256, bias=True)\n",
       "            (LayerNorm): LayerNorm((256,), eps=1e-12, elementwise_affine=True)\n",
       "            (dropout): Dropout(p=0.1, inplace=False)\n",
       "          )\n",
       "        )\n",
       "        (2): BertLayer(\n",
       "          (attention): BertAttention(\n",
       "            (self): BertSelfAttention(\n",
       "              (query): Linear(in_features=256, out_features=256, bias=True)\n",
       "              (key): Linear(in_features=256, out_features=256, bias=True)\n",
       "              (value): Linear(in_features=256, out_features=256, bias=True)\n",
       "              (dropout): Dropout(p=0.1, inplace=False)\n",
       "            )\n",
       "            (output): BertSelfOutput(\n",
       "              (dense): Linear(in_features=256, out_features=256, bias=True)\n",
       "              (LayerNorm): LayerNorm((256,), eps=1e-12, elementwise_affine=True)\n",
       "              (dropout): Dropout(p=0.1, inplace=False)\n",
       "            )\n",
       "          )\n",
       "          (intermediate): BertIntermediate(\n",
       "            (dense): Linear(in_features=256, out_features=1024, bias=True)\n",
       "            (intermediate_act_fn): GELUActivation()\n",
       "          )\n",
       "          (output): BertOutput(\n",
       "            (dense): Linear(in_features=1024, out_features=256, bias=True)\n",
       "            (LayerNorm): LayerNorm((256,), eps=1e-12, elementwise_affine=True)\n",
       "            (dropout): Dropout(p=0.1, inplace=False)\n",
       "          )\n",
       "        )\n",
       "        (3): BertLayer(\n",
       "          (attention): BertAttention(\n",
       "            (self): BertSelfAttention(\n",
       "              (query): Linear(in_features=256, out_features=256, bias=True)\n",
       "              (key): Linear(in_features=256, out_features=256, bias=True)\n",
       "              (value): Linear(in_features=256, out_features=256, bias=True)\n",
       "              (dropout): Dropout(p=0.1, inplace=False)\n",
       "            )\n",
       "            (output): BertSelfOutput(\n",
       "              (dense): Linear(in_features=256, out_features=256, bias=True)\n",
       "              (LayerNorm): LayerNorm((256,), eps=1e-12, elementwise_affine=True)\n",
       "              (dropout): Dropout(p=0.1, inplace=False)\n",
       "            )\n",
       "          )\n",
       "          (intermediate): BertIntermediate(\n",
       "            (dense): Linear(in_features=256, out_features=1024, bias=True)\n",
       "            (intermediate_act_fn): GELUActivation()\n",
       "          )\n",
       "          (output): BertOutput(\n",
       "            (dense): Linear(in_features=1024, out_features=256, bias=True)\n",
       "            (LayerNorm): LayerNorm((256,), eps=1e-12, elementwise_affine=True)\n",
       "            (dropout): Dropout(p=0.1, inplace=False)\n",
       "          )\n",
       "        )\n",
       "      )\n",
       "    )\n",
       "    (pooler): BertPooler(\n",
       "      (dense): Linear(in_features=256, out_features=256, bias=True)\n",
       "      (activation): Tanh()\n",
       "    )\n",
       "  )\n",
       "  (dropout): Dropout(p=0.1, inplace=False)\n",
       "  (classifier): Linear(in_features=256, out_features=10, bias=True)\n",
       ")"
      ]
     },
     "execution_count": 57,
     "metadata": {},
     "output_type": "execute_result"
    }
   ],
   "source": [
    "model.load_state_dict(torch.load(model_name))\n",
    "model.to(training_config.device)"
   ]
  },
  {
   "cell_type": "code",
   "execution_count": 19,
   "id": "d33c9317",
   "metadata": {},
   "outputs": [],
   "source": [
    "dsm_samp = X_test.copy()\n",
    "dsm_samp = dsm_samp.sample(10)\n",
    "dsm_samp.reset_index(inplace=True, drop=True)"
   ]
  },
  {
   "cell_type": "code",
   "execution_count": 58,
   "id": "81cf3daa",
   "metadata": {},
   "outputs": [],
   "source": [
    "bert_tester = BertClsTester(training_config, model)"
   ]
  },
  {
   "cell_type": "code",
   "execution_count": 21,
   "id": "da91ceee",
   "metadata": {},
   "outputs": [
    {
     "name": "stdout",
     "output_type": "stream",
     "text": [
      "소요 시간: 8.876757860183716\n"
     ]
    }
   ],
   "source": [
    "start = time.time()\n",
    "y_pred, y_true = bert_tester.get_label(test_dataloader, 0)\n",
    "print(f'소요 시간: {time.time() - start}')"
   ]
  },
  {
   "cell_type": "code",
   "execution_count": 22,
   "id": "92049810",
   "metadata": {},
   "outputs": [],
   "source": [
    "from torchmetrics.classification import F1Score\n",
    "from torchmetrics.classification import MulticlassPrecision\n",
    "from torchmetrics.classification import MulticlassRecall\n",
    "from torchmetrics.classification import MulticlassSpecificity\n",
    "\n",
    "f1 = F1Score(task=\"multiclass\", num_classes=len(X_test.label.unique()))\n",
    "precision = MulticlassPrecision(num_classes=len(X_test.label.unique()))\n",
    "recall = MulticlassRecall(num_classes=len(X_test.label.unique()))\n",
    "specificity = MulticlassSpecificity(num_classes=len(X_test.label.unique()))"
   ]
  },
  {
   "cell_type": "code",
   "execution_count": 23,
   "id": "7cc2adcc",
   "metadata": {
    "scrolled": true
   },
   "outputs": [
    {
     "name": "stdout",
     "output_type": "stream",
     "text": [
      "precision: 0.9994147419929504\n",
      "recall: 0.9990890026092529\n",
      "specificity: 0.9999389052391052\n",
      "f1-score: 0.9995973706245422\n"
     ]
    }
   ],
   "source": [
    "print(f'precision: {precision(torch.Tensor(y_pred), torch.Tensor(y_true))}')\n",
    "print(f'recall: {recall(torch.Tensor(y_pred), torch.Tensor(y_true))}')\n",
    "print(f'specificity: {specificity(torch.Tensor(y_pred), torch.Tensor(y_true))}')\n",
    "print(f'f1-score: {f1(torch.Tensor(y_pred), torch.Tensor(y_true))}')"
   ]
  },
  {
   "cell_type": "code",
   "execution_count": null,
   "id": "0adb3ccb",
   "metadata": {},
   "outputs": [],
   "source": [
    "test_sent = \"I can't sleep because I have too much work to do\" # X_test.text[0]\n",
    "test_data = test_processor.convert_sentence(test_sent)\n",
    "test_sampler = test_processor.shuffle_data(test_data, 'test')\n",
    "test_loader = test_processor.load_data(test_data, test_sampler)"
   ]
  },
  {
   "cell_type": "code",
   "execution_count": null,
   "id": "04076293",
   "metadata": {},
   "outputs": [],
   "source": [
    "start = time.time()\n",
    "y_pred2, y_true2 = bert_tester.get_label(test_loader, 1)\n",
    "print(f'소요 시간: {time.time() - start}')"
   ]
  },
  {
   "cell_type": "code",
   "execution_count": 24,
   "id": "1a62e3f4",
   "metadata": {},
   "outputs": [
    {
     "data": {
      "text/html": [
       "<div>\n",
       "<style scoped>\n",
       "    .dataframe tbody tr th:only-of-type {\n",
       "        vertical-align: middle;\n",
       "    }\n",
       "\n",
       "    .dataframe tbody tr th {\n",
       "        vertical-align: top;\n",
       "    }\n",
       "\n",
       "    .dataframe thead th {\n",
       "        text-align: right;\n",
       "    }\n",
       "</style>\n",
       "<table border=\"1\" class=\"dataframe\">\n",
       "  <thead>\n",
       "    <tr style=\"text-align: right;\">\n",
       "      <th></th>\n",
       "      <th>0</th>\n",
       "      <th>1</th>\n",
       "      <th>2</th>\n",
       "      <th>3</th>\n",
       "      <th>4</th>\n",
       "      <th>5</th>\n",
       "      <th>6</th>\n",
       "      <th>7</th>\n",
       "      <th>8</th>\n",
       "    </tr>\n",
       "  </thead>\n",
       "  <tbody>\n",
       "    <tr>\n",
       "      <th>0</th>\n",
       "      <td>8000</td>\n",
       "      <td>0</td>\n",
       "      <td>0</td>\n",
       "      <td>0</td>\n",
       "      <td>0</td>\n",
       "      <td>0</td>\n",
       "      <td>0</td>\n",
       "      <td>0</td>\n",
       "      <td>0</td>\n",
       "    </tr>\n",
       "    <tr>\n",
       "      <th>1</th>\n",
       "      <td>0</td>\n",
       "      <td>414</td>\n",
       "      <td>0</td>\n",
       "      <td>2</td>\n",
       "      <td>0</td>\n",
       "      <td>0</td>\n",
       "      <td>0</td>\n",
       "      <td>0</td>\n",
       "      <td>0</td>\n",
       "    </tr>\n",
       "    <tr>\n",
       "      <th>2</th>\n",
       "      <td>1</td>\n",
       "      <td>1</td>\n",
       "      <td>1024</td>\n",
       "      <td>0</td>\n",
       "      <td>0</td>\n",
       "      <td>0</td>\n",
       "      <td>0</td>\n",
       "      <td>0</td>\n",
       "      <td>0</td>\n",
       "    </tr>\n",
       "    <tr>\n",
       "      <th>3</th>\n",
       "      <td>1</td>\n",
       "      <td>0</td>\n",
       "      <td>0</td>\n",
       "      <td>1445</td>\n",
       "      <td>0</td>\n",
       "      <td>0</td>\n",
       "      <td>0</td>\n",
       "      <td>0</td>\n",
       "      <td>0</td>\n",
       "    </tr>\n",
       "    <tr>\n",
       "      <th>4</th>\n",
       "      <td>0</td>\n",
       "      <td>0</td>\n",
       "      <td>0</td>\n",
       "      <td>0</td>\n",
       "      <td>143</td>\n",
       "      <td>0</td>\n",
       "      <td>0</td>\n",
       "      <td>0</td>\n",
       "      <td>0</td>\n",
       "    </tr>\n",
       "    <tr>\n",
       "      <th>5</th>\n",
       "      <td>0</td>\n",
       "      <td>0</td>\n",
       "      <td>0</td>\n",
       "      <td>0</td>\n",
       "      <td>0</td>\n",
       "      <td>348</td>\n",
       "      <td>0</td>\n",
       "      <td>0</td>\n",
       "      <td>0</td>\n",
       "    </tr>\n",
       "    <tr>\n",
       "      <th>6</th>\n",
       "      <td>1</td>\n",
       "      <td>0</td>\n",
       "      <td>0</td>\n",
       "      <td>0</td>\n",
       "      <td>0</td>\n",
       "      <td>0</td>\n",
       "      <td>3999</td>\n",
       "      <td>0</td>\n",
       "      <td>0</td>\n",
       "    </tr>\n",
       "    <tr>\n",
       "      <th>7</th>\n",
       "      <td>0</td>\n",
       "      <td>0</td>\n",
       "      <td>0</td>\n",
       "      <td>0</td>\n",
       "      <td>0</td>\n",
       "      <td>0</td>\n",
       "      <td>0</td>\n",
       "      <td>490</td>\n",
       "      <td>0</td>\n",
       "    </tr>\n",
       "    <tr>\n",
       "      <th>8</th>\n",
       "      <td>1</td>\n",
       "      <td>0</td>\n",
       "      <td>1</td>\n",
       "      <td>0</td>\n",
       "      <td>0</td>\n",
       "      <td>0</td>\n",
       "      <td>0</td>\n",
       "      <td>0</td>\n",
       "      <td>3998</td>\n",
       "    </tr>\n",
       "  </tbody>\n",
       "</table>\n",
       "</div>"
      ],
      "text/plain": [
       "      0    1     2     3    4    5     6    7     8\n",
       "0  8000    0     0     0    0    0     0    0     0\n",
       "1     0  414     0     2    0    0     0    0     0\n",
       "2     1    1  1024     0    0    0     0    0     0\n",
       "3     1    0     0  1445    0    0     0    0     0\n",
       "4     0    0     0     0  143    0     0    0     0\n",
       "5     0    0     0     0    0  348     0    0     0\n",
       "6     1    0     0     0    0    0  3999    0     0\n",
       "7     0    0     0     0    0    0     0  490     0\n",
       "8     1    0     1     0    0    0     0    0  3998"
      ]
     },
     "execution_count": 24,
     "metadata": {},
     "output_type": "execute_result"
    }
   ],
   "source": [
    "from sklearn.metrics import precision_score , recall_score , confusion_matrix, f1_score, classification_report\n",
    "\n",
    "confusion_mt = pd.DataFrame(confusion_matrix(y_true, y_pred))\n",
    "confusion_mt"
   ]
  },
  {
   "cell_type": "code",
   "execution_count": null,
   "id": "bba4e796",
   "metadata": {},
   "outputs": [],
   "source": [
    "len(y_pred)"
   ]
  },
  {
   "cell_type": "code",
   "execution_count": 25,
   "id": "30869636",
   "metadata": {},
   "outputs": [],
   "source": [
    "from sklearn.preprocessing import label_binarize \n",
    "\n",
    "y_true = label_binarize(y_true, classes=list(range(9)))\n",
    "y_pred = label_binarize(y_pred, classes=list(range(9)))"
   ]
  },
  {
   "cell_type": "code",
   "execution_count": 26,
   "id": "2717c3e1",
   "metadata": {},
   "outputs": [],
   "source": [
    "from sklearn.metrics import roc_curve, auc\n",
    "\n",
    "n_classes = 9\n",
    "fpr = dict()\n",
    "tpr = dict()\n",
    "roc_auc = dict() \n",
    "\n",
    "for i in range(n_classes):\n",
    "    fpr[i], tpr[i], _ = roc_curve(y_true[:,i], y_pred[:,i]) \n",
    "    roc_auc[i] = auc(fpr[i], tpr[i])"
   ]
  },
  {
   "cell_type": "code",
   "execution_count": 27,
   "id": "d2bd923f",
   "metadata": {},
   "outputs": [
    {
     "data": {
      "image/png": "[encoded data removed]",
      "text/plain": [
       "<Figure size 2000x500 with 2 Axes>"
      ]
     },
     "metadata": {},
     "output_type": "display_data"
    }
   ],
   "source": [
    "import matplotlib.pyplot as plt \n",
    "\n",
    "plt.figure(figsize=(20, 5))\n",
    "val = 0\n",
    "\n",
    "for idx, i in enumerate(range(n_classes)):\n",
    "    if idx == 0 or idx == 8 or idx == 9: \n",
    "        plt.subplot(131+val) \n",
    "        plt.plot(fpr[i], tpr[i], label = f'ROC curve(area = {round(roc_auc[i], 2)}')\n",
    "        plt.plot([0, 1], [0, 1], 'k--')\n",
    "        plt.xlim([0.0, 1.0])\n",
    "        plt.ylim([0.0, 1.05])\n",
    "        plt.xlabel('False Positive Rate') \n",
    "        plt.ylabel('True Positive Rate')\n",
    "        plt.title(f'Class {idx}')\n",
    "        plt.legend(loc='lower right')\n",
    "        val += 1\n",
    "plt.show()"
   ]
  },
  {
   "cell_type": "markdown",
   "id": "71bebaba",
   "metadata": {},
   "source": [
    "#### 학습 기록 시각화 "
   ]
  },
  {
   "cell_type": "code",
   "execution_count": null,
   "id": "69fc695c",
   "metadata": {},
   "outputs": [],
   "source": [
    "with open(os.path.join(log_path, 'label_10', 'bert-medium', 'train_11_acc.pickle'), 'rb') as f:\n",
    "    train_acc = pickle.load(f)\n",
    "    \n",
    "with open(os.path.join(log_path, 'label_10', 'bert-medium', 'train_11_loss.pickle'), 'rb') as f:\n",
    "    train_loss = pickle.load(f)\n",
    "    \n",
    "with open(os.path.join(log_path, 'label_10', 'bert-medium', 'eval_11_acc.pickle'), 'rb') as f:\n",
    "    val_acc = pickle.load(f)\n",
    "\n",
    "with open(os.path.join(log_path, 'label_10', 'bert-medium', 'eval_11_loss.pickle'), 'rb') as f:\n",
    "    val_loss = pickle.load(f)"
   ]
  },
  {
   "cell_type": "code",
   "execution_count": null,
   "id": "4fbcf809",
   "metadata": {},
   "outputs": [],
   "source": [
    "num_epochs = list(range(len(train_acc)))\n",
    "plt.figure(figsize=(10,5))\n",
    "plt.subplot(1,2,1)\n",
    "plt.plot(list(range(len(train_acc))), train_acc, label='train_acc')\n",
    "plt.plot(list(range(len(val_acc))), val_acc, label='val_acc')\n",
    "\n",
    "plt.legend()\n",
    "plt.show()"
   ]
  },
  {
   "cell_type": "code",
   "execution_count": null,
   "id": "383adfa4",
   "metadata": {},
   "outputs": [],
   "source": [
    "num_epochs = list(range(len(train_acc)))\n",
    "plt.figure(figsize=(10,5))\n",
    "plt.subplot(1,2,1)\n",
    "plt.plot(list(range(len(val_acc))), train_loss, label='train_loss')\n",
    "plt.plot(list(range(len(val_loss))), val_loss, label='val_loss')\n",
    "\n",
    "plt.legend()\n",
    "plt.show()"
   ]
  },
  {
   "cell_type": "code",
   "execution_count": null,
   "id": "6d837287",
   "metadata": {},
   "outputs": [],
   "source": [
    "train_loss[4], val_loss[4]"
   ]
  },
  {
   "cell_type": "code",
   "execution_count": null,
   "id": "83b81211",
   "metadata": {},
   "outputs": [],
   "source": [
    "train_loss[6], val_loss[6]"
   ]
  },
  {
   "cell_type": "markdown",
   "id": "e7ed7bbf",
   "metadata": {},
   "source": [
    "#### 가상 대화 예측 "
   ]
  },
  {
   "cell_type": "code",
   "execution_count": null,
   "id": "03082904",
   "metadata": {},
   "outputs": [],
   "source": [
    "X_test"
   ]
  },
  {
   "cell_type": "code",
   "execution_count": 28,
   "id": "f8cf4d1f",
   "metadata": {},
   "outputs": [
    {
     "data": {
      "text/html": [
       "<div>\n",
       "<style scoped>\n",
       "    .dataframe tbody tr th:only-of-type {\n",
       "        vertical-align: middle;\n",
       "    }\n",
       "\n",
       "    .dataframe tbody tr th {\n",
       "        vertical-align: top;\n",
       "    }\n",
       "\n",
       "    .dataframe thead th {\n",
       "        text-align: right;\n",
       "    }\n",
       "</style>\n",
       "<table border=\"1\" class=\"dataframe\">\n",
       "  <thead>\n",
       "    <tr style=\"text-align: right;\">\n",
       "      <th></th>\n",
       "      <th>speaker</th>\n",
       "      <th>text</th>\n",
       "    </tr>\n",
       "  </thead>\n",
       "  <tbody>\n",
       "    <tr>\n",
       "      <th>0</th>\n",
       "      <td>User</td>\n",
       "      <td>hey</td>\n",
       "    </tr>\n",
       "    <tr>\n",
       "      <th>1</th>\n",
       "      <td>Chatbot</td>\n",
       "      <td>Hello, nice to meet you</td>\n",
       "    </tr>\n",
       "    <tr>\n",
       "      <th>2</th>\n",
       "      <td>User</td>\n",
       "      <td>what is your name ?</td>\n",
       "    </tr>\n",
       "    <tr>\n",
       "      <th>3</th>\n",
       "      <td>Chatbot</td>\n",
       "      <td>I am a psychological counseling chatbot</td>\n",
       "    </tr>\n",
       "    <tr>\n",
       "      <th>4</th>\n",
       "      <td>User</td>\n",
       "      <td>Ah-huh</td>\n",
       "    </tr>\n",
       "  </tbody>\n",
       "</table>\n",
       "</div>"
      ],
      "text/plain": [
       "   speaker                                     text\n",
       "0     User                                      hey\n",
       "1  Chatbot                  Hello, nice to meet you\n",
       "2     User                      what is your name ?\n",
       "3  Chatbot  I am a psychological counseling chatbot\n",
       "4     User                                   Ah-huh"
      ]
     },
     "execution_count": 28,
     "metadata": {},
     "output_type": "execute_result"
    }
   ],
   "source": [
    "with open(os.path.join(data_path, 'conv_translated.pickle'), 'rb') as f:\n",
    "    conv = pickle.load(f)\n",
    "    \n",
    "conv = conv[['speaker_idx', 'translated']]\n",
    "conv.columns = ['speaker', 'text']\n",
    "conv.head()"
   ]
  },
  {
   "cell_type": "code",
   "execution_count": 29,
   "id": "e3efcc51",
   "metadata": {},
   "outputs": [],
   "source": [
    "conv.loc[6].text = 'I am so depressed today'\n",
    "conv.loc[12]. text = 'I can not sleep because I have too much work to do'"
   ]
  },
  {
   "cell_type": "code",
   "execution_count": 30,
   "id": "a3b4f597",
   "metadata": {},
   "outputs": [
    {
     "name": "stderr",
     "output_type": "stream",
     "text": [
      "/tmp/ipykernel_7499/3381273535.py:2: SettingWithCopyWarning: \n",
      "A value is trying to be set on a copy of a slice from a DataFrame.\n",
      "Try using .loc[row_indexer,col_indexer] = value instead\n",
      "\n",
      "See the caveats in the documentation: https://pandas.pydata.org/pandas-docs/stable/user_guide/indexing.html#returning-a-view-versus-a-copy\n",
      "  user_conv['label'] = 0\n"
     ]
    }
   ],
   "source": [
    "user_conv = conv[conv.speaker=='User']\n",
    "user_conv['label'] = 0"
   ]
  },
  {
   "cell_type": "code",
   "execution_count": 44,
   "id": "8c015c16",
   "metadata": {},
   "outputs": [],
   "source": [
    "user_conv = user_conv[['text', 'label']]"
   ]
  },
  {
   "cell_type": "code",
   "execution_count": 45,
   "id": "19428cd1",
   "metadata": {},
   "outputs": [],
   "source": [
    "conv_file = BertDataset(user_conv)\n",
    "conv_dataset = test_processor.convert_data(conv_file)\n",
    "conv_sampler = test_processor.shuffle_data(conv_dataset, 'test')\n",
    "conv_dataloader = test_processor.load_data(conv_dataset, conv_sampler)"
   ]
  },
  {
   "cell_type": "code",
   "execution_count": 59,
   "id": "50cef1e0",
   "metadata": {},
   "outputs": [],
   "source": [
    "cls_tester = BertClsTester(training_config, model)"
   ]
  },
  {
   "cell_type": "code",
   "execution_count": 60,
   "id": "19f71f92",
   "metadata": {},
   "outputs": [],
   "source": [
    "y_pred, y_true = bert_tester.get_label(conv_dataloader, 0)"
   ]
  },
  {
   "cell_type": "code",
   "execution_count": 61,
   "id": "df3108f2",
   "metadata": {},
   "outputs": [],
   "source": [
    "user_conv['label_10'] = y_pred\n",
    "# user_conv.columns = ['text' ,'label_9']"
   ]
  },
  {
   "cell_type": "code",
   "execution_count": 62,
   "id": "5028cb7e",
   "metadata": {},
   "outputs": [
    {
     "data": {
      "text/html": [
       "<div>\n",
       "<style scoped>\n",
       "    .dataframe tbody tr th:only-of-type {\n",
       "        vertical-align: middle;\n",
       "    }\n",
       "\n",
       "    .dataframe tbody tr th {\n",
       "        vertical-align: top;\n",
       "    }\n",
       "\n",
       "    .dataframe thead th {\n",
       "        text-align: right;\n",
       "    }\n",
       "</style>\n",
       "<table border=\"1\" class=\"dataframe\">\n",
       "  <thead>\n",
       "    <tr style=\"text-align: right;\">\n",
       "      <th></th>\n",
       "      <th>text</th>\n",
       "      <th>label_9</th>\n",
       "      <th>label_10</th>\n",
       "    </tr>\n",
       "  </thead>\n",
       "  <tbody>\n",
       "    <tr>\n",
       "      <th>0</th>\n",
       "      <td>hey</td>\n",
       "      <td>0</td>\n",
       "      <td>9</td>\n",
       "    </tr>\n",
       "    <tr>\n",
       "      <th>1</th>\n",
       "      <td>what is your name ?</td>\n",
       "      <td>0</td>\n",
       "      <td>9</td>\n",
       "    </tr>\n",
       "    <tr>\n",
       "      <th>2</th>\n",
       "      <td>Ah-huh</td>\n",
       "      <td>0</td>\n",
       "      <td>9</td>\n",
       "    </tr>\n",
       "    <tr>\n",
       "      <th>3</th>\n",
       "      <td>I am so depressed today</td>\n",
       "      <td>0</td>\n",
       "      <td>0</td>\n",
       "    </tr>\n",
       "    <tr>\n",
       "      <th>4</th>\n",
       "      <td>I just feel so lethargic these days</td>\n",
       "      <td>1</td>\n",
       "      <td>1</td>\n",
       "    </tr>\n",
       "    <tr>\n",
       "      <th>5</th>\n",
       "      <td>I think he's psychologically exhausted</td>\n",
       "      <td>0</td>\n",
       "      <td>9</td>\n",
       "    </tr>\n",
       "    <tr>\n",
       "      <th>6</th>\n",
       "      <td>I can not sleep because I have too much work t...</td>\n",
       "      <td>3</td>\n",
       "      <td>3</td>\n",
       "    </tr>\n",
       "    <tr>\n",
       "      <th>7</th>\n",
       "      <td>I should I'll go for a walk from time to time</td>\n",
       "      <td>0</td>\n",
       "      <td>9</td>\n",
       "    </tr>\n",
       "    <tr>\n",
       "      <th>8</th>\n",
       "      <td>Thanks for listening</td>\n",
       "      <td>0</td>\n",
       "      <td>9</td>\n",
       "    </tr>\n",
       "  </tbody>\n",
       "</table>\n",
       "</div>"
      ],
      "text/plain": [
       "                                                text  label_9  label_10\n",
       "0                                                hey        0         9\n",
       "1                                what is your name ?        0         9\n",
       "2                                             Ah-huh        0         9\n",
       "3                            I am so depressed today        0         0\n",
       "4                I just feel so lethargic these days        1         1\n",
       "5             I think he's psychologically exhausted        0         9\n",
       "6  I can not sleep because I have too much work t...        3         3\n",
       "7      I should I'll go for a walk from time to time        0         9\n",
       "8                               Thanks for listening        0         9"
      ]
     },
     "execution_count": 62,
     "metadata": {},
     "output_type": "execute_result"
    }
   ],
   "source": [
    "user_conv"
   ]
  },
  {
   "cell_type": "code",
   "execution_count": 64,
   "id": "911bb9c7",
   "metadata": {},
   "outputs": [
    {
     "data": {
      "text/html": [
       "<div>\n",
       "<style scoped>\n",
       "    .dataframe tbody tr th:only-of-type {\n",
       "        vertical-align: middle;\n",
       "    }\n",
       "\n",
       "    .dataframe tbody tr th {\n",
       "        vertical-align: top;\n",
       "    }\n",
       "\n",
       "    .dataframe thead th {\n",
       "        text-align: right;\n",
       "    }\n",
       "</style>\n",
       "<table border=\"1\" class=\"dataframe\">\n",
       "  <thead>\n",
       "    <tr style=\"text-align: right;\">\n",
       "      <th></th>\n",
       "      <th>text</th>\n",
       "      <th>label_9</th>\n",
       "      <th>label_10</th>\n",
       "    </tr>\n",
       "  </thead>\n",
       "  <tbody>\n",
       "    <tr>\n",
       "      <th>0</th>\n",
       "      <td>hey</td>\n",
       "      <td>우울</td>\n",
       "      <td>일상</td>\n",
       "    </tr>\n",
       "    <tr>\n",
       "      <th>1</th>\n",
       "      <td>what is your name ?</td>\n",
       "      <td>우울</td>\n",
       "      <td>일상</td>\n",
       "    </tr>\n",
       "    <tr>\n",
       "      <th>2</th>\n",
       "      <td>Ah-huh</td>\n",
       "      <td>우울</td>\n",
       "      <td>일상</td>\n",
       "    </tr>\n",
       "    <tr>\n",
       "      <th>3</th>\n",
       "      <td>I am so depressed today</td>\n",
       "      <td>우울</td>\n",
       "      <td>우울</td>\n",
       "    </tr>\n",
       "    <tr>\n",
       "      <th>4</th>\n",
       "      <td>I just feel so lethargic these days</td>\n",
       "      <td>무기력</td>\n",
       "      <td>무기력</td>\n",
       "    </tr>\n",
       "    <tr>\n",
       "      <th>5</th>\n",
       "      <td>I think he's psychologically exhausted</td>\n",
       "      <td>우울</td>\n",
       "      <td>일상</td>\n",
       "    </tr>\n",
       "    <tr>\n",
       "      <th>6</th>\n",
       "      <td>I can not sleep because I have too much work t...</td>\n",
       "      <td>수면장애</td>\n",
       "      <td>수면장애</td>\n",
       "    </tr>\n",
       "    <tr>\n",
       "      <th>7</th>\n",
       "      <td>I should I'll go for a walk from time to time</td>\n",
       "      <td>우울</td>\n",
       "      <td>일상</td>\n",
       "    </tr>\n",
       "    <tr>\n",
       "      <th>8</th>\n",
       "      <td>Thanks for listening</td>\n",
       "      <td>우울</td>\n",
       "      <td>일상</td>\n",
       "    </tr>\n",
       "  </tbody>\n",
       "</table>\n",
       "</div>"
      ],
      "text/plain": [
       "                                                text label_9 label_10\n",
       "0                                                hey      우울       일상\n",
       "1                                what is your name ?      우울       일상\n",
       "2                                             Ah-huh      우울       일상\n",
       "3                            I am so depressed today      우울       우울\n",
       "4                I just feel so lethargic these days     무기력      무기력\n",
       "5             I think he's psychologically exhausted      우울       일상\n",
       "6  I can not sleep because I have too much work t...    수면장애     수면장애\n",
       "7      I should I'll go for a walk from time to time      우울       일상\n",
       "8                               Thanks for listening      우울       일상"
      ]
     },
     "execution_count": 64,
     "metadata": {},
     "output_type": "execute_result"
    }
   ],
   "source": [
    "user_conv.label_9 = user_conv.label_9.apply(lambda x: label[x])\n",
    "user_conv.label_10 = user_conv.label_10.apply(lambda x: label[x])\n",
    "user_conv"
   ]
  },
  {
   "cell_type": "code",
   "execution_count": null,
   "id": "9b2b2e5b",
   "metadata": {},
   "outputs": [],
   "source": []
  }
 ],
 "metadata": {
  "kernelspec": {
   "display_name": "Python 3 (ipykernel)",
   "language": "python",
   "name": "python3"
  },
  "language_info": {
   "codemirror_mode": {
    "name": "ipython",
    "version": 3
   },
   "file_extension": ".py",
   "mimetype": "text/x-python",
   "name": "python",
   "nbconvert_exporter": "python",
   "pygments_lexer": "ipython3",
   "version": "3.8.16"
  }
 },
 "nbformat": 4,
 "nbformat_minor": 5
}
