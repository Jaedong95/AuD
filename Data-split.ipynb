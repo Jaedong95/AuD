{
 "cells": [
  {
   "cell_type": "code",
   "execution_count": 1,
   "id": "678ed519",
   "metadata": {},
   "outputs": [],
   "source": [
    "import pandas as pd \n",
    "import os \n",
    "import json\n",
    "import pickle\n",
    "from sklearn.utils import shuffle \n",
    "from sklearn.model_selection import train_test_split"
   ]
  },
  {
   "cell_type": "code",
   "execution_count": 2,
   "id": "2087e3ce",
   "metadata": {},
   "outputs": [],
   "source": [
    "default_path = os.getcwd()\n",
    "data_path = os.path.join(default_path, 'data')\n",
    "base_model = os.path.join(default_path, 'base-model')\n",
    "config_path = os.path.join(default_path, 'config')\n",
    "log_path = os.path.join(default_path, 'log')\n",
    "config_file = \"bert-base.json\""
   ]
  },
  {
   "cell_type": "markdown",
   "id": "df43d393",
   "metadata": {},
   "source": [
    "#### bws data"
   ]
  },
  {
   "cell_type": "code",
   "execution_count": 7,
   "id": "6da8f680",
   "metadata": {},
   "outputs": [
    {
     "data": {
      "text/html": [
       "<div>\n",
       "<style scoped>\n",
       "    .dataframe tbody tr th:only-of-type {\n",
       "        vertical-align: middle;\n",
       "    }\n",
       "\n",
       "    .dataframe tbody tr th {\n",
       "        vertical-align: top;\n",
       "    }\n",
       "\n",
       "    .dataframe thead th {\n",
       "        text-align: right;\n",
       "    }\n",
       "</style>\n",
       "<table border=\"1\" class=\"dataframe\">\n",
       "  <thead>\n",
       "    <tr style=\"text-align: right;\">\n",
       "      <th></th>\n",
       "      <th>text</th>\n",
       "      <th>translated</th>\n",
       "      <th>cnt</th>\n",
       "      <th>weakest_cnt</th>\n",
       "      <th>strongest_cnt</th>\n",
       "      <th>score</th>\n",
       "      <th>minmax_score</th>\n",
       "    </tr>\n",
       "  </thead>\n",
       "  <tbody>\n",
       "    <tr>\n",
       "      <th>0</th>\n",
       "      <td>i am sad for both of them and i hope something...</td>\n",
       "      <td>나는 그들 모두에게 슬프고 나는 무언가가 더 나은 방향으로 바뀌기를 바란다</td>\n",
       "      <td>8</td>\n",
       "      <td>0</td>\n",
       "      <td>3</td>\n",
       "      <td>0.375</td>\n",
       "      <td>0.6875</td>\n",
       "    </tr>\n",
       "    <tr>\n",
       "      <th>1</th>\n",
       "      <td>it feels like all i ever achieve through what ...</td>\n",
       "      <td>불행함을 느끼지 않기 위해 내가 힘든 노력으로 느끼는 것을 통해 내가 성취하는 모든...</td>\n",
       "      <td>8</td>\n",
       "      <td>0</td>\n",
       "      <td>0</td>\n",
       "      <td>0.000</td>\n",
       "      <td>0.5000</td>\n",
       "    </tr>\n",
       "    <tr>\n",
       "      <th>2</th>\n",
       "      <td>so yet again i lose the person that i tell eve...</td>\n",
       "      <td>그래서 다시 나는 내가 모든 것을 말할 수 있는 사람을 잃고 우울할 때 기분이 나아...</td>\n",
       "      <td>8</td>\n",
       "      <td>0</td>\n",
       "      <td>0</td>\n",
       "      <td>0.000</td>\n",
       "      <td>0.5000</td>\n",
       "    </tr>\n",
       "  </tbody>\n",
       "</table>\n",
       "</div>"
      ],
      "text/plain": [
       "                                                text  \\\n",
       "0  i am sad for both of them and i hope something...   \n",
       "1  it feels like all i ever achieve through what ...   \n",
       "2  so yet again i lose the person that i tell eve...   \n",
       "\n",
       "                                          translated  cnt  weakest_cnt  \\\n",
       "0          나는 그들 모두에게 슬프고 나는 무언가가 더 나은 방향으로 바뀌기를 바란다    8            0   \n",
       "1  불행함을 느끼지 않기 위해 내가 힘든 노력으로 느끼는 것을 통해 내가 성취하는 모든...    8            0   \n",
       "2  그래서 다시 나는 내가 모든 것을 말할 수 있는 사람을 잃고 우울할 때 기분이 나아...    8            0   \n",
       "\n",
       "   strongest_cnt  score  minmax_score  \n",
       "0              3  0.375        0.6875  \n",
       "1              0  0.000        0.5000  \n",
       "2              0  0.000        0.5000  "
      ]
     },
     "execution_count": 7,
     "metadata": {},
     "output_type": "execute_result"
    }
   ],
   "source": [
    "bws_score = pd.read_csv(os.path.join(data_path, 'bws_sim_score.csv'))\n",
    "bws_score.head(3)"
   ]
  },
  {
   "cell_type": "code",
   "execution_count": 8,
   "id": "c1ce8523",
   "metadata": {},
   "outputs": [
    {
     "data": {
      "text/html": [
       "<div>\n",
       "<style scoped>\n",
       "    .dataframe tbody tr th:only-of-type {\n",
       "        vertical-align: middle;\n",
       "    }\n",
       "\n",
       "    .dataframe tbody tr th {\n",
       "        vertical-align: top;\n",
       "    }\n",
       "\n",
       "    .dataframe thead th {\n",
       "        text-align: right;\n",
       "    }\n",
       "</style>\n",
       "<table border=\"1\" class=\"dataframe\">\n",
       "  <thead>\n",
       "    <tr style=\"text-align: right;\">\n",
       "      <th></th>\n",
       "      <th>text</th>\n",
       "      <th>text_kor</th>\n",
       "      <th>label</th>\n",
       "    </tr>\n",
       "  </thead>\n",
       "  <tbody>\n",
       "    <tr>\n",
       "      <th>0</th>\n",
       "      <td>i am sad for both of them and i hope something...</td>\n",
       "      <td>나는 그들 모두에게 슬프고 나는 무언가가 더 나은 방향으로 바뀌기를 바란다</td>\n",
       "      <td>0.6875</td>\n",
       "    </tr>\n",
       "  </tbody>\n",
       "</table>\n",
       "</div>"
      ],
      "text/plain": [
       "                                                text  \\\n",
       "0  i am sad for both of them and i hope something...   \n",
       "\n",
       "                                    text_kor   label  \n",
       "0  나는 그들 모두에게 슬프고 나는 무언가가 더 나은 방향으로 바뀌기를 바란다  0.6875  "
      ]
     },
     "execution_count": 8,
     "metadata": {},
     "output_type": "execute_result"
    }
   ],
   "source": [
    "bws_score = bws_score[['text', 'translated', 'minmax_score']]\n",
    "bws_score.columns = ['text', 'text_kor', 'label']\n",
    "bws_score.head(1)"
   ]
  },
  {
   "cell_type": "code",
   "execution_count": 10,
   "id": "5f83691f",
   "metadata": {},
   "outputs": [],
   "source": [
    "bws_score['label'] = bws_score['label'] * 16\n",
    "bws_score['label'] = bws_score.label.apply(lambda x: int(x))"
   ]
  },
  {
   "cell_type": "code",
   "execution_count": 11,
   "id": "35ab4999",
   "metadata": {},
   "outputs": [
    {
     "data": {
      "text/plain": [
       "(1152, 128, 320)"
      ]
     },
     "execution_count": 11,
     "metadata": {},
     "output_type": "execute_result"
    }
   ],
   "source": [
    "X_train, X_test = train_test_split(bws_score, test_size=0.2, random_state=42)\n",
    "X_train, X_dev = train_test_split(X_train, test_size=0.1, random_state=42)\n",
    "len(X_train), len(X_dev), len(X_test)"
   ]
  },
  {
   "cell_type": "code",
   "execution_count": 12,
   "id": "d1ac5015",
   "metadata": {},
   "outputs": [],
   "source": [
    "X_train.to_csv(os.path.join(data_path, 'bws_score_train.csv'), index=False)\n",
    "X_dev.to_csv(os.path.join(data_path, 'bws_score_val.csv'), index=False)\n",
    "X_test.to_csv(os.path.join(data_path, 'bws_score_test.csv'), index=False)"
   ]
  },
  {
   "cell_type": "markdown",
   "id": "fc123817",
   "metadata": {},
   "source": [
    "#### BWS binary data"
   ]
  },
  {
   "cell_type": "code",
   "execution_count": 28,
   "id": "b3b722d8",
   "metadata": {},
   "outputs": [],
   "source": [
    "bws_dep = pd.read_csv(os.path.join(data_path, 'bws_sim_dep.csv'))\n",
    "bws_dep['label'] = 0"
   ]
  },
  {
   "cell_type": "code",
   "execution_count": 29,
   "id": "38bd758f",
   "metadata": {},
   "outputs": [],
   "source": [
    "bws_ndep = pd.read_csv(os.path.join(data_path, 'bws_sim_daily.csv'))\n",
    "bws_ndep['label'] = 1"
   ]
  },
  {
   "cell_type": "code",
   "execution_count": 31,
   "id": "2437ce47",
   "metadata": {},
   "outputs": [
    {
     "data": {
      "text/html": [
       "<div>\n",
       "<style scoped>\n",
       "    .dataframe tbody tr th:only-of-type {\n",
       "        vertical-align: middle;\n",
       "    }\n",
       "\n",
       "    .dataframe tbody tr th {\n",
       "        vertical-align: top;\n",
       "    }\n",
       "\n",
       "    .dataframe thead th {\n",
       "        text-align: right;\n",
       "    }\n",
       "</style>\n",
       "<table border=\"1\" class=\"dataframe\">\n",
       "  <thead>\n",
       "    <tr style=\"text-align: right;\">\n",
       "      <th></th>\n",
       "      <th>text</th>\n",
       "      <th>label</th>\n",
       "    </tr>\n",
       "  </thead>\n",
       "  <tbody>\n",
       "    <tr>\n",
       "      <th>0</th>\n",
       "      <td>i am sad for both of them and i hope something...</td>\n",
       "      <td>0</td>\n",
       "    </tr>\n",
       "    <tr>\n",
       "      <th>1</th>\n",
       "      <td>it feels like all i ever achieve through what ...</td>\n",
       "      <td>0</td>\n",
       "    </tr>\n",
       "    <tr>\n",
       "      <th>2</th>\n",
       "      <td>so yet again i lose the person that i tell eve...</td>\n",
       "      <td>0</td>\n",
       "    </tr>\n",
       "  </tbody>\n",
       "</table>\n",
       "</div>"
      ],
      "text/plain": [
       "                                                text  label\n",
       "0  i am sad for both of them and i hope something...      0\n",
       "1  it feels like all i ever achieve through what ...      0\n",
       "2  so yet again i lose the person that i tell eve...      0"
      ]
     },
     "execution_count": 31,
     "metadata": {},
     "output_type": "execute_result"
    }
   ],
   "source": [
    "bws_bin = pd.concat([bws_dep, bws_ndep])\n",
    "bws_bin.reset_index(inplace=True, drop=True)\n",
    "bws_bin.head(3)"
   ]
  },
  {
   "cell_type": "code",
   "execution_count": 32,
   "id": "8ec991b1",
   "metadata": {},
   "outputs": [
    {
     "data": {
      "text/html": [
       "<div>\n",
       "<style scoped>\n",
       "    .dataframe tbody tr th:only-of-type {\n",
       "        vertical-align: middle;\n",
       "    }\n",
       "\n",
       "    .dataframe tbody tr th {\n",
       "        vertical-align: top;\n",
       "    }\n",
       "\n",
       "    .dataframe thead th {\n",
       "        text-align: right;\n",
       "    }\n",
       "</style>\n",
       "<table border=\"1\" class=\"dataframe\">\n",
       "  <thead>\n",
       "    <tr style=\"text-align: right;\">\n",
       "      <th></th>\n",
       "      <th>text</th>\n",
       "      <th>label</th>\n",
       "    </tr>\n",
       "  </thead>\n",
       "  <tbody>\n",
       "    <tr>\n",
       "      <th>0</th>\n",
       "      <td>i am sad for both of them and i hope something...</td>\n",
       "      <td>0</td>\n",
       "    </tr>\n",
       "  </tbody>\n",
       "</table>\n",
       "</div>"
      ],
      "text/plain": [
       "                                                text  label\n",
       "0  i am sad for both of them and i hope something...      0"
      ]
     },
     "execution_count": 32,
     "metadata": {},
     "output_type": "execute_result"
    }
   ],
   "source": [
    "bws_bin.columns = ['text', 'label']\n",
    "bws_bin.head(1)"
   ]
  },
  {
   "cell_type": "code",
   "execution_count": 33,
   "id": "a5263bb7",
   "metadata": {},
   "outputs": [
    {
     "data": {
      "text/html": [
       "<div>\n",
       "<style scoped>\n",
       "    .dataframe tbody tr th:only-of-type {\n",
       "        vertical-align: middle;\n",
       "    }\n",
       "\n",
       "    .dataframe tbody tr th {\n",
       "        vertical-align: top;\n",
       "    }\n",
       "\n",
       "    .dataframe thead th {\n",
       "        text-align: right;\n",
       "    }\n",
       "</style>\n",
       "<table border=\"1\" class=\"dataframe\">\n",
       "  <thead>\n",
       "    <tr style=\"text-align: right;\">\n",
       "      <th></th>\n",
       "      <th>text</th>\n",
       "      <th>label</th>\n",
       "    </tr>\n",
       "  </thead>\n",
       "  <tbody>\n",
       "    <tr>\n",
       "      <th>0</th>\n",
       "      <td>i am sad for both of them and i hope something...</td>\n",
       "      <td>0</td>\n",
       "    </tr>\n",
       "    <tr>\n",
       "      <th>1</th>\n",
       "      <td>it feels like all i ever achieve through what ...</td>\n",
       "      <td>0</td>\n",
       "    </tr>\n",
       "    <tr>\n",
       "      <th>2</th>\n",
       "      <td>so yet again i lose the person that i tell eve...</td>\n",
       "      <td>0</td>\n",
       "    </tr>\n",
       "    <tr>\n",
       "      <th>3</th>\n",
       "      <td>i need to realize i am unhappy for no reason</td>\n",
       "      <td>0</td>\n",
       "    </tr>\n",
       "    <tr>\n",
       "      <th>4</th>\n",
       "      <td>i don't feel like i've done anything to make a...</td>\n",
       "      <td>0</td>\n",
       "    </tr>\n",
       "    <tr>\n",
       "      <th>...</th>\n",
       "      <td>...</td>\n",
       "      <td>...</td>\n",
       "    </tr>\n",
       "    <tr>\n",
       "      <th>1595</th>\n",
       "      <td>the thing is that i don't feel sad or guilty a...</td>\n",
       "      <td>1</td>\n",
       "    </tr>\n",
       "    <tr>\n",
       "      <th>1596</th>\n",
       "      <td>i can almost pinpoint when it started but late...</td>\n",
       "      <td>1</td>\n",
       "    </tr>\n",
       "    <tr>\n",
       "      <th>1597</th>\n",
       "      <td>if you're really unsure then maybe you could t...</td>\n",
       "      <td>1</td>\n",
       "    </tr>\n",
       "    <tr>\n",
       "      <th>1598</th>\n",
       "      <td>i don't feel sad or happy sometimes angry at t...</td>\n",
       "      <td>1</td>\n",
       "    </tr>\n",
       "    <tr>\n",
       "      <th>1599</th>\n",
       "      <td>once again i don't feel depressed i have no su...</td>\n",
       "      <td>1</td>\n",
       "    </tr>\n",
       "  </tbody>\n",
       "</table>\n",
       "<p>1600 rows × 2 columns</p>\n",
       "</div>"
      ],
      "text/plain": [
       "                                                   text  label\n",
       "0     i am sad for both of them and i hope something...      0\n",
       "1     it feels like all i ever achieve through what ...      0\n",
       "2     so yet again i lose the person that i tell eve...      0\n",
       "3          i need to realize i am unhappy for no reason      0\n",
       "4     i don't feel like i've done anything to make a...      0\n",
       "...                                                 ...    ...\n",
       "1595  the thing is that i don't feel sad or guilty a...      1\n",
       "1596  i can almost pinpoint when it started but late...      1\n",
       "1597  if you're really unsure then maybe you could t...      1\n",
       "1598  i don't feel sad or happy sometimes angry at t...      1\n",
       "1599  once again i don't feel depressed i have no su...      1\n",
       "\n",
       "[1600 rows x 2 columns]"
      ]
     },
     "execution_count": 33,
     "metadata": {},
     "output_type": "execute_result"
    }
   ],
   "source": [
    "bws_bin"
   ]
  },
  {
   "cell_type": "code",
   "execution_count": 34,
   "id": "0cc9c9bb",
   "metadata": {},
   "outputs": [
    {
     "data": {
      "text/plain": [
       "(1152, 128, 320)"
      ]
     },
     "execution_count": 34,
     "metadata": {},
     "output_type": "execute_result"
    }
   ],
   "source": [
    "X_train, X_test = train_test_split(bws_bin, test_size=0.2, random_state=42)\n",
    "X_train, X_dev = train_test_split(X_train, test_size=0.1, random_state=42)\n",
    "len(X_train), len(X_dev), len(X_test)"
   ]
  },
  {
   "cell_type": "code",
   "execution_count": 35,
   "id": "acdad424",
   "metadata": {},
   "outputs": [],
   "source": [
    "X_train.to_csv(os.path.join(data_path, 'bws_bin_train.csv'), index=False)\n",
    "X_dev.to_csv(os.path.join(data_path, 'bws_bin_val.csv'), index=False)\n",
    "X_test.to_csv(os.path.join(data_path, 'bws_bin_test.csv'), index=False)"
   ]
  },
  {
   "cell_type": "markdown",
   "id": "f198b87d",
   "metadata": {},
   "source": [
    "#### DSM-5 data"
   ]
  },
  {
   "cell_type": "code",
   "execution_count": 20,
   "id": "2c788c3d",
   "metadata": {},
   "outputs": [
    {
     "name": "stderr",
     "output_type": "stream",
     "text": [
      "C:\\ProgramData\\Anaconda3\\lib\\site-packages\\IPython\\core\\interactiveshell.py:3165: DtypeWarning: Columns (0) have mixed types.Specify dtype option on import or set low_memory=False.\n",
      "  has_raised = await self.run_ast_nodes(code_ast.body, cell_name,\n"
     ]
    },
    {
     "data": {
      "text/html": [
       "<div>\n",
       "<style scoped>\n",
       "    .dataframe tbody tr th:only-of-type {\n",
       "        vertical-align: middle;\n",
       "    }\n",
       "\n",
       "    .dataframe tbody tr th {\n",
       "        vertical-align: top;\n",
       "    }\n",
       "\n",
       "    .dataframe thead th {\n",
       "        text-align: right;\n",
       "    }\n",
       "</style>\n",
       "<table border=\"1\" class=\"dataframe\">\n",
       "  <thead>\n",
       "    <tr style=\"text-align: right;\">\n",
       "      <th></th>\n",
       "      <th>id</th>\n",
       "      <th>text</th>\n",
       "    </tr>\n",
       "    <tr>\n",
       "      <th>label</th>\n",
       "      <th></th>\n",
       "      <th></th>\n",
       "    </tr>\n",
       "  </thead>\n",
       "  <tbody>\n",
       "    <tr>\n",
       "      <th>0</th>\n",
       "      <td>87891</td>\n",
       "      <td>87891</td>\n",
       "    </tr>\n",
       "    <tr>\n",
       "      <th>1</th>\n",
       "      <td>2078</td>\n",
       "      <td>2078</td>\n",
       "    </tr>\n",
       "    <tr>\n",
       "      <th>2</th>\n",
       "      <td>5129</td>\n",
       "      <td>5129</td>\n",
       "    </tr>\n",
       "    <tr>\n",
       "      <th>3</th>\n",
       "      <td>7228</td>\n",
       "      <td>7228</td>\n",
       "    </tr>\n",
       "    <tr>\n",
       "      <th>4</th>\n",
       "      <td>716</td>\n",
       "      <td>716</td>\n",
       "    </tr>\n",
       "    <tr>\n",
       "      <th>5</th>\n",
       "      <td>1741</td>\n",
       "      <td>1741</td>\n",
       "    </tr>\n",
       "    <tr>\n",
       "      <th>6</th>\n",
       "      <td>41234</td>\n",
       "      <td>41234</td>\n",
       "    </tr>\n",
       "    <tr>\n",
       "      <th>7</th>\n",
       "      <td>2452</td>\n",
       "      <td>2452</td>\n",
       "    </tr>\n",
       "    <tr>\n",
       "      <th>8</th>\n",
       "      <td>52860</td>\n",
       "      <td>52860</td>\n",
       "    </tr>\n",
       "    <tr>\n",
       "      <th>9</th>\n",
       "      <td>98746</td>\n",
       "      <td>98746</td>\n",
       "    </tr>\n",
       "  </tbody>\n",
       "</table>\n",
       "</div>"
      ],
      "text/plain": [
       "          id   text\n",
       "label              \n",
       "0      87891  87891\n",
       "1       2078   2078\n",
       "2       5129   5129\n",
       "3       7228   7228\n",
       "4        716    716\n",
       "5       1741   1741\n",
       "6      41234  41234\n",
       "7       2452   2452\n",
       "8      52860  52860\n",
       "9      98746  98746"
      ]
     },
     "execution_count": 20,
     "metadata": {},
     "output_type": "execute_result"
    }
   ],
   "source": [
    "dsm_data = pd.read_csv(os.path.join(data_path, 'dsm_data.csv'))\n",
    "dsm_data.groupby('label').count()"
   ]
  },
  {
   "cell_type": "code",
   "execution_count": 21,
   "id": "f94ed4b2",
   "metadata": {},
   "outputs": [
    {
     "data": {
      "text/plain": [
       "99344"
      ]
     },
     "execution_count": 21,
     "metadata": {},
     "output_type": "execute_result"
    }
   ],
   "source": [
    "dsm_sample = dsm_data.copy()\n",
    "dsm = []\n",
    "\n",
    "# sample2: 40,000, 20,000, 20,000\n",
    "dsm.extend(dsm_sample[dsm_sample.label==0].sample(25000).index.tolist())\n",
    "dsm.extend(dsm_sample[dsm_sample.label==1].index.tolist())\n",
    "dsm.extend(dsm_sample[dsm_sample.label==2].index.tolist())\n",
    "dsm.extend(dsm_sample[dsm_sample.label==3].index.tolist())\n",
    "dsm.extend(dsm_sample[dsm_sample.label==4].index.tolist())\n",
    "dsm.extend(dsm_sample[dsm_sample.label==5].index.tolist())\n",
    "dsm.extend(dsm_sample[dsm_sample.label==6].sample(15000).index.tolist())\n",
    "dsm.extend(dsm_sample[dsm_sample.label==7].index.tolist())\n",
    "dsm.extend(dsm_sample[dsm_sample.label==8].sample(15000).index.tolist())\n",
    "dsm.extend(dsm_sample[dsm_sample.label==9].sample(25000).index.tolist())\n",
    "\n",
    "len(dsm)"
   ]
  },
  {
   "cell_type": "code",
   "execution_count": 22,
   "id": "270027f8",
   "metadata": {},
   "outputs": [],
   "source": [
    "dsm_sample = dsm_sample.loc[dsm]\n",
    "dsm_sample.reset_index(inplace=True, drop=True)\n",
    "dsm_sample.to_csv(os.path.join(data_path, 'dsm_sample.csv'), index=False)"
   ]
  },
  {
   "cell_type": "code",
   "execution_count": 23,
   "id": "e480d16c",
   "metadata": {},
   "outputs": [
    {
     "data": {
      "text/plain": [
       "(63580, 15895, 19869)"
      ]
     },
     "execution_count": 23,
     "metadata": {},
     "output_type": "execute_result"
    }
   ],
   "source": [
    "X_train, X_test = train_test_split(dsm_sample, test_size=0.2, random_state=42, stratify=dsm_sample['label'])\n",
    "X_train, X_dev = train_test_split(X_train, test_size=0.2, random_state=42, stratify=X_train['label'])\n",
    "len(X_train), len(X_dev), len(X_test)"
   ]
  },
  {
   "cell_type": "code",
   "execution_count": 26,
   "id": "80e700ab",
   "metadata": {},
   "outputs": [],
   "source": [
    "X_train.to_csv(os.path.join(data_path, 'dsm_samp_train.csv'), index=False)\n",
    "X_dev.to_csv(os.path.join(data_path, 'dsm_samp_val.csv'), index=False)\n",
    "X_test.to_csv(os.path.join(data_path, 'dsm_samp_test.csv'), index=False)"
   ]
  }
 ],
 "metadata": {
  "kernelspec": {
   "display_name": "Python 3",
   "language": "python",
   "name": "python3"
  },
  "language_info": {
   "codemirror_mode": {
    "name": "ipython",
    "version": 3
   },
   "file_extension": ".py",
   "mimetype": "text/x-python",
   "name": "python",
   "nbconvert_exporter": "python",
   "pygments_lexer": "ipython3",
   "version": "3.8.8"
  }
 },
 "nbformat": 4,
 "nbformat_minor": 5
}
