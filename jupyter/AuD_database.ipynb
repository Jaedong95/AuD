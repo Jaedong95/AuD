{
 "cells": [
  {
   "cell_type": "code",
   "execution_count": 1,
   "id": "81343999",
   "metadata": {},
   "outputs": [],
   "source": [
    "import pymysql "
   ]
  },
  {
   "cell_type": "code",
   "execution_count": 9,
   "id": "a443d649",
   "metadata": {},
   "outputs": [],
   "source": [
    "conn = pymysql.connect(host='localhost', user='lamda_admin', password='admin_madla03', db='lamda_db', charset='utf8')\n",
    "curs = conn.cursor()"
   ]
  },
  {
   "cell_type": "code",
   "execution_count": 10,
   "id": "52fff395",
   "metadata": {},
   "outputs": [],
   "source": [
    "def execute_sql(sql):\n",
    "    curs.execute(sql)\n",
    "    return curs.fetchall()"
   ]
  },
  {
   "cell_type": "code",
   "execution_count": 13,
   "id": "422e42fb",
   "metadata": {},
   "outputs": [
    {
     "data": {
      "text/plain": [
       "(('aud_log',),)"
      ]
     },
     "execution_count": 13,
     "metadata": {},
     "output_type": "execute_result"
    }
   ],
   "source": [
    "sql = 'SHOW TABLES;'\n",
    "\n",
    "execute_sql(sql)"
   ]
  },
  {
   "cell_type": "code",
   "execution_count": 12,
   "id": "c5195517",
   "metadata": {},
   "outputs": [
    {
     "data": {
      "text/plain": [
       "()"
      ]
     },
     "execution_count": 12,
     "metadata": {},
     "output_type": "execute_result"
    }
   ],
   "source": [
    "sql = \"CREATE TABLE AuD_log(idx int NOT NULL AUTO_INCREMENT, \\\n",
    "user varchar(100) NOT NULL, \\\n",
    "input_text varchar(1000) NOT NULL, \\\n",
    "bws_label float NOT NULL, \\\n",
    "dsm_label varchar(100) NOT NULL,\\\n",
    "tokens varchar(1000) NOT NULL, \\\n",
    "datetime varchar(100) NOT NULL, \\\n",
    "PRIMARY KEY(idx) \\\n",
    ")\"\n",
    "\n",
    "execute_sql(sql)"
   ]
  },
  {
   "cell_type": "code",
   "execution_count": 14,
   "id": "10b60840",
   "metadata": {},
   "outputs": [],
   "source": [
    "curs.fetchall()\n",
    "curs.close()\n",
    "conn.commit()\n",
    "conn.close()"
   ]
  },
  {
   "cell_type": "code",
   "execution_count": null,
   "id": "8742ccbf",
   "metadata": {},
   "outputs": [],
   "source": []
  }
 ],
 "metadata": {
  "kernelspec": {
   "display_name": "Python 3",
   "language": "python",
   "name": "python3"
  },
  "language_info": {
   "codemirror_mode": {
    "name": "ipython",
    "version": 3
   },
   "file_extension": ".py",
   "mimetype": "text/x-python",
   "name": "python",
   "nbconvert_exporter": "python",
   "pygments_lexer": "ipython3",
   "version": "3.8.8"
  }
 },
 "nbformat": 4,
 "nbformat_minor": 5
}
